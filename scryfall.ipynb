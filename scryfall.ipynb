{
 "cells": [
  {
   "cell_type": "code",
   "execution_count": 41,
   "metadata": {},
   "outputs": [],
   "source": [
    "import requests\n",
    "\n",
    "x = requests.get(\"https://api.scryfall.com/bulk-data\")"
   ]
  },
  {
   "cell_type": "code",
   "execution_count": 44,
   "metadata": {},
   "outputs": [
    {
     "name": "stdout",
     "output_type": "stream",
     "text": [
      "{\"object\":\"list\",\"has_more\":false,\"data\":[{\"object\":\"bulk_data\",\"id\":\"27bf3214-1271-490b-bdfe-c0be6c23d02e\",\"type\":\"oracle_cards\",\"updated_at\":\"2024-12-09T10:03:40.417+00:00\",\"uri\":\"https://api.scryfall.com/bulk-data/27bf3214-1271-490b-bdfe-c0be6c23d02e\",\"name\":\"Oracle Cards\",\"description\":\"A JSON file containing one Scryfall card object for each Oracle ID on Scryfall. The chosen sets for the cards are an attempt to return the most up-to-date recognizable version of the card.\",\"size\":154960005,\"download_uri\":\"https://data.scryfall.io/oracle-cards/oracle-cards-20241209100340.json\",\"content_type\":\"application/json\",\"content_encoding\":\"gzip\"},{\"object\":\"bulk_data\",\"id\":\"6bbcf976-6369-4401-88fc-3a9e4984c305\",\"type\":\"unique_artwork\",\"updated_at\":\"2024-12-09T10:03:45.450+00:00\",\"uri\":\"https://api.scryfall.com/bulk-data/6bbcf976-6369-4401-88fc-3a9e4984c305\",\"name\":\"Unique Artwork\",\"description\":\"A JSON file of Scryfall card objects that together contain all unique artworks. The chosen cards promote the best image scans.\",\"size\":216093630,\"download_uri\":\"https://data.scryfall.io/unique-artwork/unique-artwork-20241209100345.json\",\"content_type\":\"application/json\",\"content_encoding\":\"gzip\"},{\"object\":\"bulk_data\",\"id\":\"e2ef41e3-5778-4bc2-af3f-78eca4dd9c23\",\"type\":\"default_cards\",\"updated_at\":\"2024-12-09T10:08:04.108+00:00\",\"uri\":\"https://api.scryfall.com/bulk-data/e2ef41e3-5778-4bc2-af3f-78eca4dd9c23\",\"name\":\"Default Cards\",\"description\":\"A JSON file containing every card object on Scryfall in English or the printed language if the card is only available in one language.\",\"size\":479921590,\"download_uri\":\"https://data.scryfall.io/default-cards/default-cards-20241209100804.json\",\"content_type\":\"application/json\",\"content_encoding\":\"gzip\"},{\"object\":\"bulk_data\",\"id\":\"922288cb-4bef-45e1-bb30-0c2bd3d3534f\",\"type\":\"all_cards\",\"updated_at\":\"2024-12-09T10:19:51.570+00:00\",\"uri\":\"https://api.scryfall.com/bulk-data/922288cb-4bef-45e1-bb30-0c2bd3d3534f\",\"name\":\"All Cards\",\"description\":\"A JSON file containing every card object on Scryfall in every language.\",\"size\":2277989893,\"download_uri\":\"https://data.scryfall.io/all-cards/all-cards-20241209101951.json\",\"content_type\":\"application/json\",\"content_encoding\":\"gzip\"},{\"object\":\"bulk_data\",\"id\":\"06f54c0b-ab9c-452d-b35a-8297db5eb940\",\"type\":\"rulings\",\"updated_at\":\"2024-12-09T10:00:32.182+00:00\",\"uri\":\"https://api.scryfall.com/bulk-data/06f54c0b-ab9c-452d-b35a-8297db5eb940\",\"name\":\"Rulings\",\"description\":\"A JSON file containing all Rulings on Scryfall. Each ruling refers to cards via an `oracle_id`.\",\"size\":22614745,\"download_uri\":\"https://data.scryfall.io/rulings/rulings-20241209100032.json\",\"content_type\":\"application/json\",\"content_encoding\":\"gzip\"}]}\n"
     ]
    }
   ],
   "source": [
    "print(x.text)"
   ]
  },
  {
   "cell_type": "code",
   "execution_count": 37,
   "metadata": {},
   "outputs": [
    {
     "data": {
      "text/plain": [
       "requests.models.Response"
      ]
     },
     "execution_count": 37,
     "metadata": {},
     "output_type": "execute_result"
    }
   ],
   "source": [
    "type(x)"
   ]
  },
  {
   "cell_type": "code",
   "execution_count": 82,
   "metadata": {},
   "outputs": [],
   "source": [
    "url = \"https://api.scryfall.com/bulk-data\"\n",
    "\n",
    "def get_posts(url):\n",
    "\n",
    "    try:\n",
    "        # Make a GET request to the API endpoint using requests.get()\n",
    "        response = requests.get(url)\n",
    "\n",
    "        # Check if the request was successful (status code 200)\n",
    "        if response.status_code == 200:\n",
    "            posts = response.json()\n",
    "            return posts\n",
    "        else:\n",
    "            print('Error:', response.status_code)\n",
    "            return None\n",
    "        \n",
    "    except:\n",
    "        print(\"Failed\")\n"
   ]
  },
  {
   "cell_type": "code",
   "execution_count": 83,
   "metadata": {},
   "outputs": [
    {
     "data": {
      "text/plain": [
       "{'object': 'list',\n",
       " 'has_more': False,\n",
       " 'data': [{'object': 'bulk_data',\n",
       "   'id': '27bf3214-1271-490b-bdfe-c0be6c23d02e',\n",
       "   'type': 'oracle_cards',\n",
       "   'updated_at': '2024-12-09T10:03:40.417+00:00',\n",
       "   'uri': 'https://api.scryfall.com/bulk-data/27bf3214-1271-490b-bdfe-c0be6c23d02e',\n",
       "   'name': 'Oracle Cards',\n",
       "   'description': 'A JSON file containing one Scryfall card object for each Oracle ID on Scryfall. The chosen sets for the cards are an attempt to return the most up-to-date recognizable version of the card.',\n",
       "   'size': 154960005,\n",
       "   'download_uri': 'https://data.scryfall.io/oracle-cards/oracle-cards-20241209100340.json',\n",
       "   'content_type': 'application/json',\n",
       "   'content_encoding': 'gzip'},\n",
       "  {'object': 'bulk_data',\n",
       "   'id': '6bbcf976-6369-4401-88fc-3a9e4984c305',\n",
       "   'type': 'unique_artwork',\n",
       "   'updated_at': '2024-12-09T10:03:45.450+00:00',\n",
       "   'uri': 'https://api.scryfall.com/bulk-data/6bbcf976-6369-4401-88fc-3a9e4984c305',\n",
       "   'name': 'Unique Artwork',\n",
       "   'description': 'A JSON file of Scryfall card objects that together contain all unique artworks. The chosen cards promote the best image scans.',\n",
       "   'size': 216093630,\n",
       "   'download_uri': 'https://data.scryfall.io/unique-artwork/unique-artwork-20241209100345.json',\n",
       "   'content_type': 'application/json',\n",
       "   'content_encoding': 'gzip'},\n",
       "  {'object': 'bulk_data',\n",
       "   'id': 'e2ef41e3-5778-4bc2-af3f-78eca4dd9c23',\n",
       "   'type': 'default_cards',\n",
       "   'updated_at': '2024-12-09T10:08:04.108+00:00',\n",
       "   'uri': 'https://api.scryfall.com/bulk-data/e2ef41e3-5778-4bc2-af3f-78eca4dd9c23',\n",
       "   'name': 'Default Cards',\n",
       "   'description': 'A JSON file containing every card object on Scryfall in English or the printed language if the card is only available in one language.',\n",
       "   'size': 479921590,\n",
       "   'download_uri': 'https://data.scryfall.io/default-cards/default-cards-20241209100804.json',\n",
       "   'content_type': 'application/json',\n",
       "   'content_encoding': 'gzip'},\n",
       "  {'object': 'bulk_data',\n",
       "   'id': '922288cb-4bef-45e1-bb30-0c2bd3d3534f',\n",
       "   'type': 'all_cards',\n",
       "   'updated_at': '2024-12-09T10:19:51.570+00:00',\n",
       "   'uri': 'https://api.scryfall.com/bulk-data/922288cb-4bef-45e1-bb30-0c2bd3d3534f',\n",
       "   'name': 'All Cards',\n",
       "   'description': 'A JSON file containing every card object on Scryfall in every language.',\n",
       "   'size': 2277989893,\n",
       "   'download_uri': 'https://data.scryfall.io/all-cards/all-cards-20241209101951.json',\n",
       "   'content_type': 'application/json',\n",
       "   'content_encoding': 'gzip'},\n",
       "  {'object': 'bulk_data',\n",
       "   'id': '06f54c0b-ab9c-452d-b35a-8297db5eb940',\n",
       "   'type': 'rulings',\n",
       "   'updated_at': '2024-12-09T10:00:32.182+00:00',\n",
       "   'uri': 'https://api.scryfall.com/bulk-data/06f54c0b-ab9c-452d-b35a-8297db5eb940',\n",
       "   'name': 'Rulings',\n",
       "   'description': 'A JSON file containing all Rulings on Scryfall. Each ruling refers to cards via an `oracle_id`.',\n",
       "   'size': 22614745,\n",
       "   'download_uri': 'https://data.scryfall.io/rulings/rulings-20241209100032.json',\n",
       "   'content_type': 'application/json',\n",
       "   'content_encoding': 'gzip'}]}"
      ]
     },
     "execution_count": 83,
     "metadata": {},
     "output_type": "execute_result"
    }
   ],
   "source": [
    "get_posts(url)"
   ]
  },
  {
   "cell_type": "code",
   "execution_count": 78,
   "metadata": {},
   "outputs": [],
   "source": [
    "api_base = \"https://api.scryfall.com/\"\n",
    "lci_call_uri = api_base + \"sets/lci/\"\n",
    "\n",
    "name = \"Ragavan, Nimble\"\n",
    "namecall = api_base + \"cards/named?fuzzy=\" + name"
   ]
  },
  {
   "cell_type": "code",
   "execution_count": 87,
   "metadata": {},
   "outputs": [
    {
     "data": {
      "text/plain": [
       "{'object': 'card',\n",
       " 'id': 'a9738cda-adb1-47fb-9f4c-ecd930228c4d',\n",
       " 'oracle_id': '37108cd4-bbab-4ce3-9ed6-f60e8422e703',\n",
       " 'multiverse_ids': [522214],\n",
       " 'mtgo_id': 90653,\n",
       " 'tcgplayer_id': 239857,\n",
       " 'cardmarket_id': 566480,\n",
       " 'name': 'Ragavan, Nimble Pilferer',\n",
       " 'lang': 'en',\n",
       " 'released_at': '2021-06-18',\n",
       " 'uri': 'https://api.scryfall.com/cards/a9738cda-adb1-47fb-9f4c-ecd930228c4d',\n",
       " 'scryfall_uri': 'https://scryfall.com/card/mh2/138/ragavan-nimble-pilferer?utm_source=api',\n",
       " 'layout': 'normal',\n",
       " 'highres_image': True,\n",
       " 'image_status': 'highres_scan',\n",
       " 'image_uris': {'small': 'https://cards.scryfall.io/small/front/a/9/a9738cda-adb1-47fb-9f4c-ecd930228c4d.jpg?1681963138',\n",
       "  'normal': 'https://cards.scryfall.io/normal/front/a/9/a9738cda-adb1-47fb-9f4c-ecd930228c4d.jpg?1681963138',\n",
       "  'large': 'https://cards.scryfall.io/large/front/a/9/a9738cda-adb1-47fb-9f4c-ecd930228c4d.jpg?1681963138',\n",
       "  'png': 'https://cards.scryfall.io/png/front/a/9/a9738cda-adb1-47fb-9f4c-ecd930228c4d.png?1681963138',\n",
       "  'art_crop': 'https://cards.scryfall.io/art_crop/front/a/9/a9738cda-adb1-47fb-9f4c-ecd930228c4d.jpg?1681963138',\n",
       "  'border_crop': 'https://cards.scryfall.io/border_crop/front/a/9/a9738cda-adb1-47fb-9f4c-ecd930228c4d.jpg?1681963138'},\n",
       " 'mana_cost': '{R}',\n",
       " 'cmc': 1.0,\n",
       " 'type_line': 'Legendary Creature — Monkey Pirate',\n",
       " 'oracle_text': \"Whenever Ragavan, Nimble Pilferer deals combat damage to a player, create a Treasure token and exile the top card of that player's library. Until end of turn, you may cast that card.\\nDash {1}{R} (You may cast this spell for its dash cost. If you do, it gains haste, and it's returned from the battlefield to its owner's hand at the beginning of the next end step.)\",\n",
       " 'power': '2',\n",
       " 'toughness': '1',\n",
       " 'colors': ['R'],\n",
       " 'color_identity': ['R'],\n",
       " 'keywords': ['Treasure', 'Dash'],\n",
       " 'all_parts': [{'object': 'related_card',\n",
       "   'id': 'b3e685f9-cc0f-4dc6-98dc-4727944de445',\n",
       "   'component': 'combo_piece',\n",
       "   'name': 'Ragavan, Nimble Pilferer',\n",
       "   'type_line': 'Legendary Creature — Monkey Pirate',\n",
       "   'uri': 'https://api.scryfall.com/cards/b3e685f9-cc0f-4dc6-98dc-4727944de445'},\n",
       "  {'object': 'related_card',\n",
       "   'id': 'd0ab4943-3943-4b83-8da3-90a1fb0988b3',\n",
       "   'component': 'token',\n",
       "   'name': 'Treasure',\n",
       "   'type_line': 'Token Artifact — Treasure',\n",
       "   'uri': 'https://api.scryfall.com/cards/d0ab4943-3943-4b83-8da3-90a1fb0988b3'}],\n",
       " 'legalities': {'standard': 'not_legal',\n",
       "  'future': 'not_legal',\n",
       "  'historic': 'banned',\n",
       "  'timeless': 'legal',\n",
       "  'gladiator': 'legal',\n",
       "  'pioneer': 'not_legal',\n",
       "  'explorer': 'not_legal',\n",
       "  'modern': 'legal',\n",
       "  'legacy': 'banned',\n",
       "  'pauper': 'not_legal',\n",
       "  'vintage': 'legal',\n",
       "  'penny': 'not_legal',\n",
       "  'commander': 'legal',\n",
       "  'oathbreaker': 'legal',\n",
       "  'standardbrawl': 'not_legal',\n",
       "  'brawl': 'legal',\n",
       "  'alchemy': 'not_legal',\n",
       "  'paupercommander': 'not_legal',\n",
       "  'duel': 'banned',\n",
       "  'oldschool': 'not_legal',\n",
       "  'premodern': 'not_legal',\n",
       "  'predh': 'not_legal'},\n",
       " 'games': ['paper', 'mtgo'],\n",
       " 'reserved': False,\n",
       " 'foil': True,\n",
       " 'nonfoil': True,\n",
       " 'finishes': ['nonfoil', 'foil'],\n",
       " 'oversized': False,\n",
       " 'promo': False,\n",
       " 'reprint': False,\n",
       " 'variation': False,\n",
       " 'set_id': 'c1c7eb8c-f205-40ab-a609-767cb296544e',\n",
       " 'set': 'mh2',\n",
       " 'set_name': 'Modern Horizons 2',\n",
       " 'set_type': 'draft_innovation',\n",
       " 'set_uri': 'https://api.scryfall.com/sets/c1c7eb8c-f205-40ab-a609-767cb296544e',\n",
       " 'set_search_uri': 'https://api.scryfall.com/cards/search?order=set&q=e%3Amh2&unique=prints',\n",
       " 'scryfall_set_uri': 'https://scryfall.com/sets/mh2?utm_source=api',\n",
       " 'rulings_uri': 'https://api.scryfall.com/cards/a9738cda-adb1-47fb-9f4c-ecd930228c4d/rulings',\n",
       " 'prints_search_uri': 'https://api.scryfall.com/cards/search?order=released&q=oracleid%3A37108cd4-bbab-4ce3-9ed6-f60e8422e703&unique=prints',\n",
       " 'collector_number': '138',\n",
       " 'digital': False,\n",
       " 'rarity': 'mythic',\n",
       " 'card_back_id': '0aeebaf5-8c7d-4636-9e82-8c27447861f7',\n",
       " 'artist': 'Simon Dominic',\n",
       " 'artist_ids': ['b0e80135-db5a-4b88-a0bc-815a0e94faa1'],\n",
       " 'illustration_id': 'a1c86e0c-da57-4905-b29a-940c73de37a6',\n",
       " 'border_color': 'black',\n",
       " 'frame': '2015',\n",
       " 'frame_effects': ['legendary'],\n",
       " 'security_stamp': 'oval',\n",
       " 'full_art': False,\n",
       " 'textless': False,\n",
       " 'booster': True,\n",
       " 'story_spotlight': False,\n",
       " 'edhrec_rank': 300,\n",
       " 'preview': {'source': 'Amy the Amazonian',\n",
       "  'source_uri': 'https://twitter.com/coL_Amazonian/status/1397966381434511360',\n",
       "  'previewed_at': '2021-05-27'},\n",
       " 'prices': {'usd': '22.34',\n",
       "  'usd_foil': '35.23',\n",
       "  'usd_etched': None,\n",
       "  'eur': '23.59',\n",
       "  'eur_foil': '37.67',\n",
       "  'tix': '5.41'},\n",
       " 'related_uris': {'gatherer': 'https://gatherer.wizards.com/Pages/Card/Details.aspx?multiverseid=522214&printed=false',\n",
       "  'tcgplayer_infinite_articles': 'https://tcgplayer.pxf.io/c/4931599/1830156/21018?subId1=api&trafcat=infinite&u=https%3A%2F%2Finfinite.tcgplayer.com%2Fsearch%3FcontentMode%3Darticle%26game%3Dmagic%26partner%3Dscryfall%26q%3DRagavan%252C%2BNimble%2BPilferer',\n",
       "  'tcgplayer_infinite_decks': 'https://tcgplayer.pxf.io/c/4931599/1830156/21018?subId1=api&trafcat=infinite&u=https%3A%2F%2Finfinite.tcgplayer.com%2Fsearch%3FcontentMode%3Ddeck%26game%3Dmagic%26partner%3Dscryfall%26q%3DRagavan%252C%2BNimble%2BPilferer',\n",
       "  'edhrec': 'https://edhrec.com/route/?cc=Ragavan%2C+Nimble+Pilferer'},\n",
       " 'purchase_uris': {'tcgplayer': 'https://tcgplayer.pxf.io/c/4931599/1830156/21018?subId1=api&u=https%3A%2F%2Fwww.tcgplayer.com%2Fproduct%2F239857%3Fpage%3D1',\n",
       "  'cardmarket': 'https://www.cardmarket.com/en/Magic/Products/Singles/Modern-Horizons-2/Ragavan-Nimble-Pilferer?referrer=scryfall&utm_campaign=card_prices&utm_medium=text&utm_source=scryfall',\n",
       "  'cardhoarder': 'https://www.cardhoarder.com/cards/90653?affiliate_id=scryfall&ref=card-profile&utm_campaign=affiliate&utm_medium=card&utm_source=scryfall'}}"
      ]
     },
     "execution_count": 87,
     "metadata": {},
     "output_type": "execute_result"
    }
   ],
   "source": [
    "get_posts(namecall)"
   ]
  },
  {
   "cell_type": "code",
   "execution_count": null,
   "metadata": {},
   "outputs": [
    {
     "name": "stdout",
     "output_type": "stream",
     "text": [
      "id :\t a9738cda-adb1-47fb-9f4c-ecd930228c4d\n",
      "tcgplayer_id :\t 239857\n",
      "name :\t Ragavan, Nimble Pilferer\n",
      "image_uris :\t {'small': 'https://cards.scryfall.io/small/front/a/9/a9738cda-adb1-47fb-9f4c-ecd930228c4d.jpg?1681963138', 'normal': 'https://cards.scryfall.io/normal/front/a/9/a9738cda-adb1-47fb-9f4c-ecd930228c4d.jpg?1681963138', 'large': 'https://cards.scryfall.io/large/front/a/9/a9738cda-adb1-47fb-9f4c-ecd930228c4d.jpg?1681963138', 'png': 'https://cards.scryfall.io/png/front/a/9/a9738cda-adb1-47fb-9f4c-ecd930228c4d.png?1681963138', 'art_crop': 'https://cards.scryfall.io/art_crop/front/a/9/a9738cda-adb1-47fb-9f4c-ecd930228c4d.jpg?1681963138', 'border_crop': 'https://cards.scryfall.io/border_crop/front/a/9/a9738cda-adb1-47fb-9f4c-ecd930228c4d.jpg?1681963138'}\n",
      "mana_cost :\t {R}\n",
      "cmc :\t 1.0\n",
      "type_line :\t Legendary Creature — Monkey Pirate\n",
      "oracle_text :\t Whenever Ragavan, Nimble Pilferer deals combat damage to a player, create a Treasure token and exile the top card of that player's library. Until end of turn, you may cast that card.\n",
      "Dash {1}{R} (You may cast this spell for its dash cost. If you do, it gains haste, and it's returned from the battlefield to its owner's hand at the beginning of the next end step.)\n",
      "prices :\t {'usd': '22.34', 'usd_foil': '35.23', 'usd_etched': None, 'eur': '23.59', 'eur_foil': '37.67', 'tix': '5.41'}\n",
      "set_name :\t Modern Horizons 2\n"
     ]
    }
   ],
   "source": [
    "\n",
    "\n",
    "\n",
    "json_data = get_posts(namecall)\n",
    "\n",
    "i_list = ['id', 'tcgplayer_id', 'name', 'image_uris', 'mana_cost', 'cmc', 'type_line', 'oracle_text', 'prices', 'set_name']\n",
    "\n",
    "\n",
    "for i in i_list:\n",
    "    print(i, \":\\t\", json_data[i])\n",
    "\n",
    "\n",
    "#card_id = print(json_data['id'])\n",
    "#tcgplayer_id = print(json_data['tcgplayer_id'])\n",
    "#card_name = print(json_data['name'])\n",
    "#image_uris = print(json_data['image_uris'])\n",
    "#color = print(json_data['tcgplayer_id'])"
   ]
  },
  {
   "cell_type": "code",
   "execution_count": null,
   "metadata": {},
   "outputs": [
    {
     "name": "stdout",
     "output_type": "stream",
     "text": [
      "{'object': 'card', 'id': 'a9738cda-adb1-47fb-9f4c-ecd930228c4d', 'oracle_id': '37108cd4-bbab-4ce3-9ed6-f60e8422e703', 'multiverse_ids': [522214], 'mtgo_id': 90653, 'tcgplayer_id': 239857, 'cardmarket_id': 566480, 'name': 'Ragavan, Nimble Pilferer', 'lang': 'en', 'released_at': '2021-06-18', 'uri': 'https://api.scryfall.com/cards/a9738cda-adb1-47fb-9f4c-ecd930228c4d', 'scryfall_uri': 'https://scryfall.com/card/mh2/138/ragavan-nimble-pilferer?utm_source=api', 'layout': 'normal', 'highres_image': True, 'image_status': 'highres_scan', 'image_uris': {'small': 'https://cards.scryfall.io/small/front/a/9/a9738cda-adb1-47fb-9f4c-ecd930228c4d.jpg?1681963138', 'normal': 'https://cards.scryfall.io/normal/front/a/9/a9738cda-adb1-47fb-9f4c-ecd930228c4d.jpg?1681963138', 'large': 'https://cards.scryfall.io/large/front/a/9/a9738cda-adb1-47fb-9f4c-ecd930228c4d.jpg?1681963138', 'png': 'https://cards.scryfall.io/png/front/a/9/a9738cda-adb1-47fb-9f4c-ecd930228c4d.png?1681963138', 'art_crop': 'https://cards.scryfall.io/art_crop/front/a/9/a9738cda-adb1-47fb-9f4c-ecd930228c4d.jpg?1681963138', 'border_crop': 'https://cards.scryfall.io/border_crop/front/a/9/a9738cda-adb1-47fb-9f4c-ecd930228c4d.jpg?1681963138'}, 'mana_cost': '{R}', 'cmc': 1.0, 'type_line': 'Legendary Creature — Monkey Pirate', 'oracle_text': \"Whenever Ragavan, Nimble Pilferer deals combat damage to a player, create a Treasure token and exile the top card of that player's library. Until end of turn, you may cast that card.\\nDash {1}{R} (You may cast this spell for its dash cost. If you do, it gains haste, and it's returned from the battlefield to its owner's hand at the beginning of the next end step.)\", 'power': '2', 'toughness': '1', 'colors': ['R'], 'color_identity': ['R'], 'keywords': ['Treasure', 'Dash'], 'all_parts': [{'object': 'related_card', 'id': 'b3e685f9-cc0f-4dc6-98dc-4727944de445', 'component': 'combo_piece', 'name': 'Ragavan, Nimble Pilferer', 'type_line': 'Legendary Creature — Monkey Pirate', 'uri': 'https://api.scryfall.com/cards/b3e685f9-cc0f-4dc6-98dc-4727944de445'}, {'object': 'related_card', 'id': 'd0ab4943-3943-4b83-8da3-90a1fb0988b3', 'component': 'token', 'name': 'Treasure', 'type_line': 'Token Artifact — Treasure', 'uri': 'https://api.scryfall.com/cards/d0ab4943-3943-4b83-8da3-90a1fb0988b3'}], 'legalities': {'standard': 'not_legal', 'future': 'not_legal', 'historic': 'banned', 'timeless': 'legal', 'gladiator': 'legal', 'pioneer': 'not_legal', 'explorer': 'not_legal', 'modern': 'legal', 'legacy': 'banned', 'pauper': 'not_legal', 'vintage': 'legal', 'penny': 'not_legal', 'commander': 'legal', 'oathbreaker': 'legal', 'standardbrawl': 'not_legal', 'brawl': 'legal', 'alchemy': 'not_legal', 'paupercommander': 'not_legal', 'duel': 'banned', 'oldschool': 'not_legal', 'premodern': 'not_legal', 'predh': 'not_legal'}, 'games': ['paper', 'mtgo'], 'reserved': False, 'foil': True, 'nonfoil': True, 'finishes': ['nonfoil', 'foil'], 'oversized': False, 'promo': False, 'reprint': False, 'variation': False, 'set_id': 'c1c7eb8c-f205-40ab-a609-767cb296544e', 'set': 'mh2', 'set_name': 'Modern Horizons 2', 'set_type': 'draft_innovation', 'set_uri': 'https://api.scryfall.com/sets/c1c7eb8c-f205-40ab-a609-767cb296544e', 'set_search_uri': 'https://api.scryfall.com/cards/search?order=set&q=e%3Amh2&unique=prints', 'scryfall_set_uri': 'https://scryfall.com/sets/mh2?utm_source=api', 'rulings_uri': 'https://api.scryfall.com/cards/a9738cda-adb1-47fb-9f4c-ecd930228c4d/rulings', 'prints_search_uri': 'https://api.scryfall.com/cards/search?order=released&q=oracleid%3A37108cd4-bbab-4ce3-9ed6-f60e8422e703&unique=prints', 'collector_number': '138', 'digital': False, 'rarity': 'mythic', 'card_back_id': '0aeebaf5-8c7d-4636-9e82-8c27447861f7', 'artist': 'Simon Dominic', 'artist_ids': ['b0e80135-db5a-4b88-a0bc-815a0e94faa1'], 'illustration_id': 'a1c86e0c-da57-4905-b29a-940c73de37a6', 'border_color': 'black', 'frame': '2015', 'frame_effects': ['legendary'], 'security_stamp': 'oval', 'full_art': False, 'textless': False, 'booster': True, 'story_spotlight': False, 'edhrec_rank': 300, 'preview': {'source': 'Amy the Amazonian', 'source_uri': 'https://twitter.com/coL_Amazonian/status/1397966381434511360', 'previewed_at': '2021-05-27'}, 'prices': {'usd': '22.34', 'usd_foil': '35.23', 'usd_etched': None, 'eur': '23.59', 'eur_foil': '37.67', 'tix': '5.41'}, 'related_uris': {'gatherer': 'https://gatherer.wizards.com/Pages/Card/Details.aspx?multiverseid=522214&printed=false', 'tcgplayer_infinite_articles': 'https://tcgplayer.pxf.io/c/4931599/1830156/21018?subId1=api&trafcat=infinite&u=https%3A%2F%2Finfinite.tcgplayer.com%2Fsearch%3FcontentMode%3Darticle%26game%3Dmagic%26partner%3Dscryfall%26q%3DRagavan%252C%2BNimble%2BPilferer', 'tcgplayer_infinite_decks': 'https://tcgplayer.pxf.io/c/4931599/1830156/21018?subId1=api&trafcat=infinite&u=https%3A%2F%2Finfinite.tcgplayer.com%2Fsearch%3FcontentMode%3Ddeck%26game%3Dmagic%26partner%3Dscryfall%26q%3DRagavan%252C%2BNimble%2BPilferer', 'edhrec': 'https://edhrec.com/route/?cc=Ragavan%2C+Nimble+Pilferer'}, 'purchase_uris': {'tcgplayer': 'https://tcgplayer.pxf.io/c/4931599/1830156/21018?subId1=api&u=https%3A%2F%2Fwww.tcgplayer.com%2Fproduct%2F239857%3Fpage%3D1', 'cardmarket': 'https://www.cardmarket.com/en/Magic/Products/Singles/Modern-Horizons-2/Ragavan-Nimble-Pilferer?referrer=scryfall&utm_campaign=card_prices&utm_medium=text&utm_source=scryfall', 'cardhoarder': 'https://www.cardhoarder.com/cards/90653?affiliate_id=scryfall&ref=card-profile&utm_campaign=affiliate&utm_medium=card&utm_source=scryfall'}}\n"
     ]
    }
   ],
   "source": []
  },
  {
   "cell_type": "code",
   "execution_count": null,
   "metadata": {},
   "outputs": [],
   "source": [
    "# importing required module\n",
    "import urllib.parse\n",
    "import requests\n",
    "\n",
    "# setting the base URL value\n",
    "baseUrl = \"https://v6.exchangerate-api.com/v6/0f215802f0c83392e64ee40d/pair/\"\n",
    "\n",
    "First = input(\"Enter First Currency Value\")\n",
    "Second = input(\"Enter  Second Currency Value\")\n",
    "\n",
    "result = First+\"/\"+Second\n",
    "final_url = baseUrl+result\n",
    "\n",
    "# retrieving data from JSON Data\n",
    "json_data = requests.get(final_url).json()\n",
    "Final_result = json_data['conversion_rate']\n",
    "\n",
    "print(\"Conversion rate from \"+First+\" to \"+Second+\" = \", Final_result)"
   ]
  }
 ],
 "metadata": {
  "kernelspec": {
   "display_name": "Python 3",
   "language": "python",
   "name": "python3"
  },
  "language_info": {
   "codemirror_mode": {
    "name": "ipython",
    "version": 3
   },
   "file_extension": ".py",
   "mimetype": "text/x-python",
   "name": "python",
   "nbconvert_exporter": "python",
   "pygments_lexer": "ipython3",
   "version": "3.12.5"
  }
 },
 "nbformat": 4,
 "nbformat_minor": 2
}
